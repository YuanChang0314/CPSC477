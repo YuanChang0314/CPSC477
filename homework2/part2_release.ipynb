{
  "cells": [
    {
      "cell_type": "markdown",
      "metadata": {
        "id": "view-in-github"
      },
      "source": [
        "<a href=\"https://colab.research.google.com/github/armancohan/cpsc477-internal/blob/main/hw3/part2.ipynb\" target=\"_parent\"><img src=\"https://colab.research.google.com/assets/colab-badge.svg\" alt=\"Open In Colab\"/></a>"
      ]
    },
    {
      "cell_type": "markdown",
      "metadata": {
        "id": "DH2YExQa16Gd"
      },
      "source": [
        "# CPSC 477/577 Spring 2025, HW2, Text Generation"
      ]
    },
    {
      "cell_type": "markdown",
      "metadata": {
        "id": "Yk0Ng1L3puxz"
      },
      "source": [
        "## Please write your name and NetID below"
      ]
    },
    {
      "cell_type": "markdown",
      "metadata": {
        "id": "Mtwa1W61px8Z"
      },
      "source": [
        "NAME:Yuan Chang\n",
        "\n",
        "NetID:yc2238"
      ]
    },
    {
      "cell_type": "markdown",
      "metadata": {
        "id": "3DnTGzVwVl1k"
      },
      "source": [
        "## Introduction\n",
        "\n",
        "This assignment focuses on conditional text generation, or natural language generation (NLG). In the simplest form, the task can be formulated as\n",
        "$$\n",
        "y ← g(x)\n",
        "$$\n",
        "where $x$ is the input text sequence, $y$ is the output text sequence, $g$ is the neural text generation model.\n",
        "For example, $x$ can be an English sentence, $y$ can be a Chinese sentence, and then $g$ is a machine translation model.\n",
        "Similarly, $x$ can be a long news article, $y$ can be a short summary, and then $g$ is text summarization model.\n",
        "In this homework, we will use text summarization as our target task.\n",
        "\n",
        "In this assignment, you will learn how to use existing models using the Huggingface library to perform the same task.\n",
        "You will get familiar with the pipeline for text generation tasks, including training, inference, and evaluation.\n",
        "\n",
        "**Acknowledgement:** This assignment was designed primarly by former TA of the course, Yixin Liu and further adapted to this semester by current course staff."
      ]
    },
    {
      "cell_type": "markdown",
      "metadata": {
        "id": "7aARw1Q0eiih"
      },
      "source": [
        "## 1. Huggingface Transformers and Datasets\n",
        "\n",
        "In part 1, you have implemented the Transformer model yourself. For this part, we will use the libraries provided by [Huggingface](https://huggingface.co/), including the famous [Transformers](https://huggingface.co/docs/transformers/index) library and the [Datasets](https://huggingface.co/docs/datasets/index) library.\n",
        "Let's first install them."
      ]
    },
    {
      "cell_type": "code",
      "execution_count": 3,
      "metadata": {
        "id": "nHC21zaJAPvD"
      },
      "outputs": [],
      "source": [
        "#%pip install transformers\n",
        "#%pip install datasets\n",
        "import transformers\n",
        "import datasets"
      ]
    },
    {
      "cell_type": "markdown",
      "metadata": {
        "id": "SMYqZpD-5Nq5"
      },
      "source": [
        "Let's import the other packages. Please check again to make sure you have the GPU access.\n",
        "\n",
        "### Using GPU in Colab\n",
        "PyTorch and other deep learning libraries are much faster using GPU acceleration. For training and evaluating the models in this assignment, you should use a GPU:\n",
        "\n",
        "Go to Runtime option on the top left\n",
        "Click Change runtime type\n",
        "Select \"GPU\" for Hardware accelerator\n",
        "Click SAVE button\n",
        "However, Colab limits the amount of time that you can use a free GPU. So you may wish to implement much of the assignment without the GPU. But note that you will have to run all cells again once you change the runtime type.\n",
        "\n",
        "Let's first verify which device you are using."
      ]
    },
    {
      "cell_type": "code",
      "execution_count": 7,
      "metadata": {
        "id": "085UtXq2Vlp-"
      },
      "outputs": [
        {
          "name": "stdout",
          "output_type": "stream",
          "text": [
            "Pytorch version is:  2.0.1+cu118\n",
            "You are using:  cuda\n"
          ]
        }
      ],
      "source": [
        "#!pip install transformers datasets evaluate rouge_score\n",
        "import torch\n",
        "import torch.nn as nn\n",
        "import torch.nn.functional as F\n",
        "import torch.optim as optim\n",
        "from torch import Tensor\n",
        "\n",
        "from typing import Tuple, List\n",
        "\n",
        "import random\n",
        "import math\n",
        "import os\n",
        "import time\n",
        "import json\n",
        "import numpy as np\n",
        "from collections import Counter\n",
        "\n",
        "# We'll set the random seeds for deterministic results.\n",
        "SEED = 1\n",
        "\n",
        "random.seed(SEED)\n",
        "torch.manual_seed(SEED)\n",
        "torch.backends.cudnn.enabled = False\n",
        "torch.backends.cudnn.deterministic = True\n",
        "\n",
        "class Placeholder:\n",
        "    @property\n",
        "    def DO(self):\n",
        "        raise NotImplementedError(\"You haven't yet implemented this part of the assignment yet\")\n",
        "\n",
        "TO = Placeholder()\n",
        "\n",
        "\n",
        "DEVICE = torch.device(\"cuda\" if torch.cuda.is_available() else \"cpu\")\n",
        "print(\"Pytorch version is: \", torch.__version__)\n",
        "print(\"You are using: \", DEVICE)"
      ]
    },
    {
      "cell_type": "markdown",
      "metadata": {
        "id": "VUoM4yVQpv76"
      },
      "source": [
        "### XSum on Huggingface Datasets\n",
        "\n",
        "We are going to focus on Text Summarization. Text Summarization is the task of converting a long document into a short summary and is a classic task in NLP.\n",
        "We will be using a famous dataset called [XSum](https://aclanthology.org/D18-1206.pdf), which is one of the most commonly used datasets for abstractive text summarization.\n",
        "\n",
        "We will use the Huggingface Datasets library to get our dataset.\n",
        "Check out their [documentation](https://huggingface.co/docs/datasets/quickstart) for more information.\n",
        "\n",
        "\n",
        "Below we load XSum using HF Datasets. Please note that it may take a few minutes to load and prepocess the dataset.\n",
        "\n",
        "We will only use the first 100 examples in the test set of XSum for the following parts to save the computation time.\n",
        "The entire test set in fact contains more than 10k examples and the training set contains more than 200k examples.\n",
        "\n",
        "https://huggingface.co/datasets/xsum"
      ]
    },
    {
      "cell_type": "code",
      "execution_count": 6,
      "metadata": {
        "id": "TNf0_BTBLcOG"
      },
      "outputs": [
        {
          "name": "stdout",
          "output_type": "stream",
          "text": [
            "{'document': Value(dtype='string', id=None), 'summary': Value(dtype='string', id=None), 'id': Value(dtype='string', id=None)}\n"
          ]
        }
      ],
      "source": [
        "import datasets\n",
        "# get the first 100 data examples in the test split\n",
        "dataset = datasets.load_dataset(\"xsum\", split=\"test[:100]\",trust_remote_code=True)\n",
        "# check the dataset information\n",
        "print(dataset.info.features)"
      ]
    },
    {
      "cell_type": "markdown",
      "metadata": {
        "id": "YS8_WU5vsNXI"
      },
      "source": [
        "### BART on Huggingface Transformers\n",
        "\n",
        "The model we are going to use is [BART](https://aclanthology.org/2020.acl-main.703.pdf) (Bidirectional and Auto-Regressive\n",
        "Transformers), which we covered in class and shares the same model architecture you implemented in part 1.\n",
        "\n",
        "The specific BART checkpoint we are going to use is first *pre-trained* on large corpora and then already *fine-tuned* on XSum training set.\n",
        "\n",
        "We are going to use HF Transformers to load this fine-tuned BART checkpoint. HF Transformers hosts more than 10k of different model [checkpoints](https://huggingface.co/models), and make them easily accessible through the library.\n",
        "\n",
        "As you will see below, first we import [BART](https://huggingface.co/docs/transformers/model_doc/bart) from Transformers, and then load the model parameters with a specific model checkpoint [`facebook/bart-large-xsum`](https://huggingface.co/facebook/bart-large-xsum).\n",
        "\n",
        "For the following sections, you will want to take a deep look into the related documentaions: [doc1](https://huggingface.co/docs/transformers/model_doc/bart#transformers.BartForConditionalGeneration) and [doc2](https://huggingface.co/docs/transformers/model_doc/bart#transformers.BartTokenizer)."
      ]
    },
    {
      "cell_type": "code",
      "execution_count": 8,
      "metadata": {
        "id": "MERbFszSTiak"
      },
      "outputs": [],
      "source": [
        "from transformers import BartForConditionalGeneration, BartTokenizer\n",
        "model_name = \"facebook/bart-large-xsum\"\n",
        "tokenizer = BartTokenizer.from_pretrained(model_name)  # load the tokenizer\n",
        "model = BartForConditionalGeneration.from_pretrained(model_name).to(DEVICE)  # load the model"
      ]
    },
    {
      "cell_type": "markdown",
      "metadata": {
        "id": "cV3rX92jMDEm"
      },
      "source": [
        "## Dataloader\n",
        "\n",
        "### The data pipeline\n",
        "\n",
        "For training or inferencing any model, we first need to transform the raw textual data into model input. As we saw in part1, the model can work with lists of token ids, and for faster processing we always batch the data examples.\n",
        "This can be done in pytorch using a \"DataLoader\"\n",
        "\n",
        "Let's define a dataloader that transforms the data examples into batches of model input.\n",
        "While we have provided the implementation for you, please make sure you understand the purpose and logic of the function, which is critical for you to finish the following sections."
      ]
    },
    {
      "cell_type": "code",
      "execution_count": 4,
      "metadata": {
        "id": "DMVNbFotWWDB"
      },
      "outputs": [],
      "source": [
        "def dataloader(batch_size):\n",
        "    for i in range(0, len(dataset), batch_size):\n",
        "        batch = dataset[i:i+batch_size]\n",
        "        articles = tokenizer(\n",
        "                batch[\"document\"],\n",
        "                return_tensors=\"pt\",\n",
        "                padding=\"longest\",\n",
        "                add_special_tokens=True,\n",
        "                truncation=True,\n",
        "                max_length=512,\n",
        "            ).to(DEVICE)\n",
        "        input_ids = articles[\"input_ids\"]\n",
        "        attention_mask = articles[\"attention_mask\"]\n",
        "        summaries = tokenizer(\n",
        "                batch[\"summary\"],\n",
        "                return_tensors=\"pt\",\n",
        "                padding=\"longest\",\n",
        "                add_special_tokens=True,\n",
        "                truncation=True,\n",
        "                max_length=128,\n",
        "            ).to(DEVICE)\n",
        "        target_input_ids = summaries[\"input_ids\"]\n",
        "        target_attention_mask = summaries[\"attention_mask\"]\n",
        "        yield {\n",
        "            \"input_ids\": input_ids,\n",
        "            \"attention_mask\": attention_mask,\n",
        "            \"target_input_ids\": target_input_ids,\n",
        "            \"target_attention_mask\": target_attention_mask,\n",
        "            \"articles\": batch[\"document\"],\n",
        "            \"summaries\": batch[\"summary\"],\n",
        "        }"
      ]
    },
    {
      "cell_type": "markdown",
      "metadata": {
        "id": "UPKK1iaeIP5Y"
      },
      "source": [
        "## 2. Training Text Summarization Models\n",
        "\n",
        "In this section we are going to look into the training process of text summarization models.\n",
        "The standard training algorithm for text summarization model is Maximum Likelihood Estimation (MLE), and the loss function for this training algorithm is the cross-entropy loss:\n",
        "$$\n",
        "L_{CE} = - \\sum_{i=1}^l \\log p_{model}(\\tilde{w}_i|\\tilde{w}_{0, ..., i-1}, D),\n",
        "$$\n",
        "where $D$ is the input document, $\\tilde{w}$ is the *reference* summary (the summary in our training data that we want the model to predict), with length $l+1$ including $\\tilde{w}_0$ always set to a special token **BOS** (begin-of-sequence), and $\\tilde{w}_i$ is the $i$-th token.\n",
        "Note that this training algorithm is also called *teacher-forcing*, since the model is required to predict the $i$-th token of the reference summary given the prefix of the reference summary before the $i$-th token.\n",
        "\n",
        "To train the summarization model, we will take a batch of data examples and compute the loss in the *forward step*, and take the gradient of the model parameters w.r.t. the loss function in the *backward step*, then use an optimization algorithm (e.g., gradient descent) to update the model parameters.\n",
        "Usually such a training process can take a long time.\n",
        "Due to the computation resource limitations, for this assigment we will only implement the forward step below.\n",
        "In the next block, you are going to implement a function `compute_loss`, which computes the cross-entropy loss given a batch of input data points and a summarization model and returns the computed loss.\n",
        "Please note:\n",
        "1. The computed loss should be averaged over all tokens.\n",
        "2. The padding token (PAD) should be ignored in computation.\n",
        "3. You should not pass in the `labels` argument when you call the forward function of the model."
      ]
    },
    {
      "cell_type": "code",
      "execution_count": 8,
      "metadata": {
        "id": "8Kk5SEhMUsld"
      },
      "outputs": [],
      "source": [
        "def compute_loss(model, batch):\n",
        "    \"\"\"\n",
        "    Args:\n",
        "        model: the summarization model\n",
        "        batch: a batch of data from the dataloader\n",
        "\n",
        "    Return:\n",
        "        loss: the computed average loss\n",
        "    \"\"\"\n",
        "    # TODO: Implement\n",
        "    input_ids = batch[\"input_ids\"].squeeze(0)\n",
        "    attention_mask = batch[\"attention_mask\"].squeeze(0)\n",
        "    target_input_ids = batch[\"target_input_ids\"].squeeze(0)\n",
        "\n",
        "\n",
        "    outputs = model(input_ids=input_ids, attention_mask=attention_mask)\n",
        "    output_logits = outputs.logits[:, :target_input_ids.shape[1], :]\n",
        "\n",
        "\n",
        "    print(\"Logits shape:\", output_logits.shape) \n",
        "    print(\"Target shape:\", target_input_ids.shape)\n",
        "    loss_fn = torch.nn.CrossEntropyLoss(ignore_index=tokenizer.pad_token_id, reduction=\"mean\")\n",
        "    loss = loss_fn(output_logits.reshape(-1, output_logits.size(-1)), target_input_ids.reshape(-1))\n",
        "\n",
        "    return loss"
      ]
    },
    {
      "cell_type": "markdown",
      "metadata": {
        "id": "M8NxURAuVChp"
      },
      "source": [
        "Let's test the loss of the pretrained and finetuned BART model! The loss should be exactly 1.6260 (although a little rounding error is allowed.)"
      ]
    },
    {
      "cell_type": "code",
      "execution_count": 9,
      "metadata": {
        "id": "dewm64ppVPjI"
      },
      "outputs": [
        {
          "name": "stdout",
          "output_type": "stream",
          "text": [
            "Logits shape: torch.Size([8, 32, 50264])\n",
            "Target shape: torch.Size([8, 32])\n",
            "tensor(11.3236, device='cuda:0')\n"
          ]
        }
      ],
      "source": [
        "batches = dataloader(batch_size=8)\n",
        "batch = next(batches) # get one batch of data\n",
        "model = model.eval()\n",
        "with torch.no_grad():\n",
        "    loss = compute_loss(model, batch)\n",
        "print(loss)"
      ]
    },
    {
      "cell_type": "markdown",
      "metadata": {
        "id": "JzHZBUMcuVEv"
      },
      "source": [
        "## 3. Text Summarization Evaluation\n",
        "\n",
        "In this section we will focus on the **evaluation** of text summarization models.\n",
        "\n",
        "Having trained a summarization model, an important question is **how good the model is?**\n",
        "To answer this question, we will need to perform the following steps:\n",
        "\n",
        "1. Using the summarization model to generate the *candidate summaries* on the *test set*. This procedure is also called as **inference**.\n",
        "For an autoregressive NLG model as BART, at one inference step $t$ it predicts the probabiltiy distribution of the next token based on its *own* previously predicted tokens $\\hat{w}_{0, ..., t-1}$ and the input document $D$:\n",
        "$$\n",
        "p_t(w_i) = p_{model}(w_i|\\hat{w}_{0, ..., t-1}, D),\n",
        "$$\n",
        "where $w_i$ stands for a possible token in the vocabulary.\n",
        "The actual token as time stamp $t$ depends on the specific **decoding algorithm**.\n",
        "For example, if *greddy decoding* is used, then we select the most probable token according to $p_t$:\n",
        "$$\n",
        "\\hat{w_t} = \\arg \\max_{w_i} p_t(w_i).\n",
        "$$\n",
        "Later we will explore other decoding algorithms that can yield better results.\n",
        "\n",
        "2. Having obtained the candidate (system-generated) summaries on the test set, we evalaute the quality of the candidate summaries against the reference summaries provided in the dataset.\n",
        "This can be achieved by either *human evaluation* or *automatic evaluation* with **automatic evaluation metrics**. The evaluation result for one summarization model is usually a numerical score, which can be the quality score of its generated summaries over the test set.\n",
        "Then, we can compare the performance of different summarization models by comparing their evaluation scores."
      ]
    },
    {
      "cell_type": "markdown",
      "metadata": {
        "id": "HLLv1l3H289q"
      },
      "source": [
        "### ROUGE for Automatic Summarization Evaluation\n",
        "\n",
        "In this part, we are going to evaluate the quality of the summaries using the [ROUGE](https://aclanthology.org/W04-1013.pdf) evaluation metric. Rouge is among the most widely used automatic evaluation metrics for text summarization.\n",
        "\n",
        "While there are more than 100 [variants](https://aclanthology.org/D15-1013.pdf) of ROUGE, we are going to use its most basic settings: ROUGE-N, which is based on n-grams matching between the reference and candidate summaries.\n",
        "Concretely, the ROUGE-N recall score is as follows:\n",
        "$$\n",
        "\\textrm{ROUGE-N}_{R} =\\frac{\\sum_{m \\in \\mathcal{M}_n} \\mathrm{Count}_{\\mathrm{Match}}(m)}{\\sum_{m \\in \\mathcal{M}_n} \\mathrm{Count}(m)},\n",
        "$$\n",
        "where $\\mathcal{M}_n$ is the set of unique $n$-grams in the reference summary, $\\mathrm{Count}(m)$ is the number of occurrence of n-gram $m$ in the reference summary, $\\mathrm{Count}_{\\mathrm{Match}}(m)$ is the number of co-occurrence of n-gram $m$ in both the reference summary and candidate summary.\n",
        "\n",
        "The ROUGE precision score can be defined by replacing the role of reference and candidate summary. Then we can compute the ROUGE [F1](https://en.wikipedia.org/wiki/F-score) score. Please note that ROUGE score is defined at the summary level, and the model performance can be evaluated by averaging over the ROUGE score of its generated summaries over the entire test set.\n",
        "\n",
        "We can use Huggingface to calculate the rouge score.\n"
      ]
    },
    {
      "cell_type": "markdown",
      "metadata": {
        "id": "y3EotXPUB_xx"
      },
      "source": [
        "Having implemented ROUGE, we will use it to evaluate the performance of the pre-trained BART on XSum.\n",
        "To do that, we first let the model generate the candidate summaries (the **inference** step)."
      ]
    },
    {
      "cell_type": "code",
      "execution_count": 10,
      "metadata": {
        "id": "VI3YUFZabRmE"
      },
      "outputs": [
        {
          "name": "stderr",
          "output_type": "stream",
          "text": [
            "13it [00:19,  1.47s/it]                        \n"
          ]
        }
      ],
      "source": [
        "from tqdm import tqdm\n",
        "# first we predict the summaries and store them in a list\n",
        "# we also store the actual summaries in another list\n",
        "# we then compare the predicted summaries to the actual summaries using the ROUGE metric\n",
        "batch_size = 8\n",
        "batches = dataloader(batch_size=batch_size)  # get batches\n",
        "total_batches = len(dataset) // batch_size\n",
        "\n",
        "model = model.eval()\n",
        "candidates = []\n",
        "references = []\n",
        "with torch.no_grad():\n",
        "    for (i, batch) in enumerate(tqdm(batches, total=total_batches)):\n",
        "        summary_ids = model.generate(batch[\"input_ids\"], num_beams=6, max_length=62)  # inference\n",
        "        summaries = tokenizer.batch_decode(summary_ids, skip_special_tokens=True)  # decoding\n",
        "        candidates.extend(summaries)\n",
        "        references.extend(batch[\"summaries\"])"
      ]
    },
    {
      "cell_type": "markdown",
      "metadata": {
        "id": "bazppNYrDK7r"
      },
      "source": [
        "Finally, we use ROUGE to evaluate the quality of the candidate summaries.\n",
        "We provide a tokenization function that tokenizes the summaries as a pre-processing before ROUGE."
      ]
    },
    {
      "cell_type": "code",
      "execution_count": 8,
      "metadata": {
        "id": "zyFes_RKAbIK"
      },
      "outputs": [
        {
          "name": "stdout",
          "output_type": "stream",
          "text": [
            "{'rouge1': 0.44060171415624283, 'rouge2': 0.21698310729156262, 'rougeL': 0.3677778665115801, 'rougeLsum': 0.3679799523953854}\n"
          ]
        }
      ],
      "source": [
        "# evaluate the rouge score\n",
        "import evaluate\n",
        "\n",
        "rouge = evaluate.load('rouge')\n",
        "\n",
        "results = rouge.compute(predictions=candidates, references=references)\n",
        "print(results)"
      ]
    },
    {
      "cell_type": "markdown",
      "metadata": {
        "id": "8naGrDXTXFFz"
      },
      "source": [
        "Here are the reference ROUGE scores for your reference:\n",
        "\n",
        "ROUGE-1 F1: 44.037\n",
        "ROUGE-2 F1: 21.686\n",
        "ROUGE-L F1: 36.991\n",
        "ROUGELsum F1: 36.990"
      ]
    },
    {
      "cell_type": "markdown",
      "metadata": {
        "id": "RaQN3HTzm-sD"
      },
      "source": [
        "## 4. Decoding Algorithms\n",
        "\n",
        "Recall from the previous section that the first step we are going to perform when evalauting NLG models is to use the summarization model to generate the *candidate summaries* on the *test set*. This procedure is also called as **inference**.\n",
        "\n",
        "For an autoregressive NLG model as BART, at one inference step $t$ it predicts the probabiltiy distribution of the next token based on its *own* previously predicted tokens $\\hat{w}_{0, ..., t-1}$ and the input document $D$:\n",
        "$$\n",
        "p_t(w_i) = p_{model}(w_i|\\hat{w}_{0, ..., t-1}, D),\n",
        "$$\n",
        "where $w_i$ stands for a possible token in the vocabulary.\n",
        "The actual token as time stamp $t$ depends on the specific **decoding algorithm**.\n",
        "\n",
        "In this section, you are going to implement several different decoding algorithms:\n",
        "\n",
        "1. Greedy Decoding\n",
        "2. Sampling\n",
        "3. Beam Search\n",
        "\n",
        "**Note:** While most of the Huggingface NLG models have a `.generate()` function supporting different decoding algorithms, you are going to implement the algorithms yourself without using this function.\n",
        "\n",
        "Before you start the following sections, one thing to keep in mind is *when* should the generation stop.\n",
        "In our case, it stops when either a pre-defined condition is reached (e.g. a maximum generation length), or a special **end-of-sequence (EOS)** token is predicted as the next token.\n",
        "You can get the index of this token via `tokenizer.eos_token_id`.\n",
        "You can also access the BOS token and PAD token in similar manners.\n",
        "\n",
        "**Note**: in the following sections, we always assume the generated summary starts with a BOS token and ends with a EOS token, and the summary length is counted with both of them.\n",
        "\n",
        "Before we going to the next sections, let's first define an evaluation function using ROUGE. We will use a reference ROUGE implementation instead for consistent results."
      ]
    },
    {
      "cell_type": "code",
      "execution_count": 12,
      "metadata": {
        "id": "KbnE0IcSYF7T"
      },
      "outputs": [],
      "source": [
        "from rouge_score import rouge_scorer\n",
        "\n",
        "scorer = rouge_scorer.RougeScorer(['rouge1', 'rouge2', 'rouge3'],\n",
        "                                  use_stemmer=False, split_summaries=False)\n",
        "\n",
        "def evaluate_rouge(candidates, references):\n",
        "    scores = [scorer.score(x, y) for x, y in zip(references, candidates)]\n",
        "    for n in range(1, 4):\n",
        "        f1, prec, recall, cnt = 0, 0, 0, 0\n",
        "        for score in scores:\n",
        "            f1 += score[f\"rouge{n}\"].fmeasure\n",
        "            prec += score[f\"rouge{n}\"].precision\n",
        "            recall += score[f\"rouge{n}\"].recall\n",
        "            cnt += 1\n",
        "        print(f\"ROUGE-{n} F1: {f1:.3f}, Precision: {prec:.3f}, Recall: {recall:.3f}\")"
      ]
    },
    {
      "cell_type": "markdown",
      "metadata": {
        "id": "Sy-NJU0RoV1z"
      },
      "source": [
        "### Greedy Decoding\n",
        "\n",
        "When greddy decoding is used, we select the most probable token according to $p_t$:\n",
        "$$\n",
        "\\hat{w_t} = \\arg \\max_{w_i} p_t(w_i).\n",
        "$$\n",
        "Please implement the algorithm below."
      ]
    },
    {
      "cell_type": "code",
      "execution_count": null,
      "metadata": {
        "id": "Vz8lqMoH6mOJ"
      },
      "outputs": [],
      "source": [
        "def greedy_decode(model, input_ids, attention_mask, tokenizer, max_length=62):\n",
        "    \"\"\"Greedy decoding\n",
        "    Args:\n",
        "        model: the model to use\n",
        "        input_ids: the input ids, shape [batch_size, seq_len]\n",
        "        attention_mask: the attention mask, shape [batch_size, seq_len]\n",
        "        max_length: the maximum length of the generated summary, including the <bos> and <eos> tokens\n",
        "    Returns:\n",
        "        the generated summary\n",
        "    \"\"\"\n",
        "    # TODO: Implement\n",
        "    model = model.eval()\n",
        "    batch_size = input_ids.shape[0]\n",
        "    if attention_mask.shape[0] != batch_size:\n",
        "        attention_mask = attention_mask[:batch_size]\n",
        "\n",
        "\n",
        "    decoded_summaries = torch.full((batch_size, 1), tokenizer.bos_token_id, dtype=torch.long, device=input_ids.device)\n",
        "    for i in range(max_length-1):\n",
        "        outputs = model(input_ids=input_ids, attention_mask=attention_mask, decoder_input_ids=decoded_summaries)\n",
        "        next_token_logits = outputs.logits[:, -1, :]\n",
        "        \n",
        "        next_token_id = next_token_logits.argmax(1).unsqueeze(-1)\n",
        "        decoded_summaries = torch.cat([decoded_summaries, next_token_id], dim=-1)\n",
        "        if torch.all(next_token_id == tokenizer.eos_token_id):\n",
        "            break\n",
        "    return [tokenizer.decode(summary.tolist(), skip_special_tokens=True) for summary in decoded_summaries]\n",
        "\n"
      ]
    },
    {
      "cell_type": "markdown",
      "metadata": {
        "id": "ppid4Q1c6umu"
      },
      "source": [
        "Let's test it."
      ]
    },
    {
      "cell_type": "code",
      "execution_count": 37,
      "metadata": {
        "id": "8JyMz6jA6uAJ"
      },
      "outputs": [
        {
          "name": "stdout",
          "output_type": "stream",
          "text": [
            "batch 1\n",
            "batch 2\n",
            "batch 3\n",
            "batch 4\n",
            "batch 5\n",
            "batch 6\n",
            "batch 7\n",
            "batch 8\n",
            "batch 9\n",
            "batch 10\n",
            "batch 11\n",
            "batch 12\n",
            "batch 13\n",
            "ROUGE-1 F1: 40.859, Precision: 42.771, Recall: 40.597\n",
            "ROUGE-2 F1: 18.310, Precision: 19.132, Recall: 18.290\n",
            "ROUGE-3 F1: 9.719, Precision: 10.112, Recall: 9.756\n"
          ]
        }
      ],
      "source": [
        "batches = dataloader(batch_size=8)  # get batches\n",
        "\n",
        "candidates = []\n",
        "references = []\n",
        "with torch.no_grad():\n",
        "    for (i, batch) in enumerate(batches):\n",
        "        print(f\"batch {i+1}\")\n",
        "        summaries = greedy_decode(model, batch[\"input_ids\"], batch[\"attention_mask\"], tokenizer)\n",
        "        candidates.extend(summaries)\n",
        "        references.extend(batch[\"summaries\"])\n",
        "\n",
        "evaluate_rouge(candidates, references)"
      ]
    },
    {
      "cell_type": "markdown",
      "metadata": {
        "id": "wjqYvCWf6-gy"
      },
      "source": [
        "Now you are going to implement the sampling algorithm, which samples the next token according to the probability $p_t(w_i)$."
      ]
    },
    {
      "cell_type": "code",
      "execution_count": 44,
      "metadata": {
        "id": "fnn_3R777eoz"
      },
      "outputs": [],
      "source": [
        "def sampling(model, input_ids, attention_mask, tokenizer, max_length=62):\n",
        "    \"\"\"Sample decoding\n",
        "    Args:\n",
        "        model: the model to use\n",
        "        input_ids: the input ids, shape [batch_size, seq_len]\n",
        "        attention_mask: the attention mask, shape [batch_size, seq_len]\n",
        "        max_length: the maximum length of the generated summary, including the <bos> and <eos> tokens\n",
        "    Returns:\n",
        "        the generated summary\n",
        "    \"\"\"\n",
        "    # TODO: Implement\n",
        "    model = model.eval()\n",
        "    batch_size = input_ids.shape[0]\n",
        "    if attention_mask.shape[0] != batch_size:\n",
        "        attention_mask = attention_mask[:batch_size]\n",
        "\n",
        "    decoded_summaries = torch.full((batch_size, 1), tokenizer.bos_token_id, dtype=torch.long, device=input_ids.device)\n",
        "    for i in range(max_length-1):\n",
        "        outputs = model(input_ids=input_ids, attention_mask=attention_mask, decoder_input_ids=decoded_summaries)\n",
        "        next_token_logits = outputs.logits[:, -1, :]\n",
        "        next_token_id = torch.multinomial(F.softmax(next_token_logits, dim=-1), 1) # using multinomial to implement sampling algorithm\n",
        "\n",
        "\n",
        "        decoded_summaries = torch.cat([decoded_summaries, next_token_id], dim=-1)\n",
        "        if torch.all(next_token_id == tokenizer.eos_token_id):\n",
        "            break\n",
        "    return [tokenizer.decode(summary.tolist(), skip_special_tokens=True) for summary in decoded_summaries]"
      ]
    },
    {
      "cell_type": "markdown",
      "metadata": {
        "id": "hNscivz78lzY"
      },
      "source": [
        "Let's test it."
      ]
    },
    {
      "cell_type": "code",
      "execution_count": 45,
      "metadata": {
        "id": "nmecTTN68sES"
      },
      "outputs": [
        {
          "name": "stdout",
          "output_type": "stream",
          "text": [
            "batch 1\n",
            "batch 2\n",
            "batch 3\n",
            "batch 4\n",
            "batch 5\n",
            "batch 6\n",
            "batch 7\n",
            "batch 8\n",
            "batch 9\n",
            "batch 10\n",
            "batch 11\n",
            "batch 12\n",
            "batch 13\n",
            "ROUGE-1 F1: 21.951, Precision: 17.586, Recall: 30.527\n",
            "ROUGE-2 F1: 6.345, Precision: 5.043, Recall: 8.936\n",
            "ROUGE-3 F1: 2.566, Precision: 2.009, Recall: 3.746\n"
          ]
        }
      ],
      "source": [
        "batches = dataloader(batch_size=8)  # get batches\n",
        "\n",
        "candidates = []\n",
        "references = []\n",
        "with torch.no_grad():\n",
        "    for (i, batch) in enumerate(batches):\n",
        "        print(f\"batch {i+1}\")\n",
        "        summaries = sampling(model, batch[\"input_ids\"], batch[\"attention_mask\"], tokenizer)\n",
        "        candidates.extend(summaries)\n",
        "        references.extend(batch[\"summaries\"])\n",
        "\n",
        "evaluate_rouge(candidates, references)"
      ]
    },
    {
      "cell_type": "markdown",
      "metadata": {
        "id": "sGrhg-548xWQ"
      },
      "source": [
        "Now you are going to implement the Beam Search algorithm.\n",
        "\n",
        "One important hyper-parameter of Beam Search is **beam_size**.\n",
        "Specifically, let **beam_size** to be $n$, Beam Search maintains $n$-possible candidates during search. The candidates are selected by the following scoring function:\n",
        "$$\n",
        "f(\\hat{w}) = \\frac{\\sum_{t=1}^{l} \\log p_{model}(\\hat{w}_t|\\hat{w}_{0, ..., t-1}, D)}{l^α},\n",
        "$$\n",
        "where $\\hat{w}$ is a (partial-)candidate summary generated so far of which the length is $l+1$.\n",
        "$\\alpha$ is another important parameter for *length penalty*.\n",
        "Specifically, when $\\alpha=1$, $f(\\hat{w})$ is the average token-level log-probability.\n",
        "When $\\alpha=0$, $f(\\hat{w})$ is the sequence-level log-probability.\n",
        "\n",
        "While there are multiple variants of Beam Search ([reference](https://aclanthology.org/W17-3207.pdf)), we are going to implement its most basic form with three arguments controlling the algorithm behavior: the **beam_size** $n$, the **length peanlty factor** $\\alpha$, and the maximum summary length.\n",
        "\n",
        "Please also note that when one of the candidate reaches the EOS token, it means that the search on this candidate is complete. You should maintain this completed candidate until there are at least $n$ other possible candidates with higher scores.\n",
        "\n",
        "Now you are going to implement Beam Search below:"
      ]
    },
    {
      "cell_type": "code",
      "execution_count": 18,
      "metadata": {
        "id": "EiCEiMLJ83w0"
      },
      "outputs": [],
      "source": [
        "def beam_search(model, input_ids, attention_mask, tokenizer, max_length=62, beam_size=6, length_penalty=1.0):\n",
        "    \"\"\"Beam search decoding\n",
        "    Args:\n",
        "        model: the model to use\n",
        "        input_ids: the input ids, shape [batch_size, seq_len]\n",
        "        attention_mask: the attention mask, shape [batch_size, seq_len]\n",
        "        max_length: the maximum length of the generated summary, including the <bos> and <eos> tokens\n",
        "        beam_size: the beam size\n",
        "        length_penalty: the length penalty\n",
        "    Returns:\n",
        "        the generated summary\n",
        "    \"\"\"\n",
        "    model = model.eval()\n",
        "    batch_size = input_ids.shape[0]\n",
        "    if attention_mask.shape[0] != batch_size:\n",
        "        attention_mask = attention_mask[:batch_size]\n",
        "    expanded_input_ids = input_ids.repeat_interleave(beam_size, dim=0) \n",
        "    expanded_mask = attention_mask.repeat_interleave(beam_size, dim=0) \n",
        "\n",
        "    expanded_decoder_input_ids = torch.full(\n",
        "        (batch_size * beam_size, 1), tokenizer.bos_token_id, dtype=torch.long, device=input_ids.device\n",
        "    )\n",
        "\n",
        "    \n",
        "    print(\"expanded_input_ids shape:\", expanded_input_ids.shape)  \n",
        "    print(\"expanded_mask shape:\", expanded_mask.shape)  \n",
        "    print(\"expanded_decoder_input_ids shape:\", expanded_decoder_input_ids.shape) \n",
        "\n",
        "    beam_scores = torch.zeros(batch_size * beam_size, device=input_ids.device)\n",
        "\n",
        "    for step in range(max_length - 1):\n",
        "        outputs = model(\n",
        "            input_ids=expanded_input_ids, \n",
        "            attention_mask=expanded_mask, \n",
        "            decoder_input_ids=expanded_decoder_input_ids\n",
        "        )\n",
        "\n",
        "        logits = outputs.logits[:, -1, :]  \n",
        "        log_probs = torch.nn.functional.log_softmax(logits, dim=-1)  \n",
        "\n",
        "       \n",
        "        scores = beam_scores.unsqueeze(-1) + log_probs \n",
        "        scores = scores.view(batch_size, beam_size * logits.shape[-1])  \n",
        "        top_scores, top_indices = torch.topk(scores, beam_size, dim=-1) \n",
        "        beam_indices = top_indices // logits.shape[-1]  \n",
        "        next_tokens = top_indices % logits.shape[-1]  \n",
        "        expanded_decoder_input_ids = expanded_decoder_input_ids[beam_indices]  \n",
        "        expanded_decoder_input_ids = torch.cat([expanded_decoder_input_ids, next_tokens.unsqueeze(-1)], dim=-1)  \n",
        "        beam_scores = top_scores.view(-1)\n",
        "\n",
        "       \n",
        "        if torch.all(next_tokens == tokenizer.eos_token_id):\n",
        "            final_scores = beam_scores / (expanded_decoder_input_ids.shape[1] ** length_penalty)\n",
        "    best_beams = expanded_decoder_input_ids[torch.argmax(final_scores, dim=-1)]\n",
        "    decoded_summaries = [tokenizer.decode(beam.tolist(), skip_special_tokens=True) for beam in best_beams]\n",
        "\n",
        "    return decoded_summaries\n",
        "\n"
      ]
    },
    {
      "cell_type": "markdown",
      "metadata": {
        "id": "d7qG8b8EGUvs"
      },
      "source": [
        "Let's test it."
      ]
    },
    {
      "cell_type": "code",
      "execution_count": 19,
      "metadata": {
        "id": "XjBNQIjDGZC2"
      },
      "outputs": [
        {
          "name": "stdout",
          "output_type": "stream",
          "text": [
            "batch 1\n",
            "expanded_input_ids shape: torch.Size([48, 512])\n",
            "expanded_mask shape: torch.Size([48, 512])\n",
            "expanded_decoder_input_ids shape: torch.Size([48, 1])\n"
          ]
        },
        {
          "ename": "RuntimeError",
          "evalue": "The size of tensor a (2) must match the size of tensor b (6) at non-singleton dimension 2",
          "output_type": "error",
          "traceback": [
            "\u001b[1;31m---------------------------------------------------------------------------\u001b[0m",
            "\u001b[1;31mRuntimeError\u001b[0m                              Traceback (most recent call last)",
            "File \u001b[1;32m<timed exec>:8\u001b[0m\n",
            "Cell \u001b[1;32mIn[18], line 32\u001b[0m, in \u001b[0;36mbeam_search\u001b[1;34m(model, input_ids, attention_mask, tokenizer, max_length, beam_size, length_penalty)\u001b[0m\n\u001b[0;32m     29\u001b[0m beam_scores \u001b[38;5;241m=\u001b[39m torch\u001b[38;5;241m.\u001b[39mzeros(batch_size \u001b[38;5;241m*\u001b[39m beam_size, device\u001b[38;5;241m=\u001b[39minput_ids\u001b[38;5;241m.\u001b[39mdevice)\n\u001b[0;32m     31\u001b[0m \u001b[38;5;28;01mfor\u001b[39;00m step \u001b[38;5;129;01min\u001b[39;00m \u001b[38;5;28mrange\u001b[39m(max_length \u001b[38;5;241m-\u001b[39m \u001b[38;5;241m1\u001b[39m):\n\u001b[1;32m---> 32\u001b[0m     outputs \u001b[38;5;241m=\u001b[39m \u001b[43mmodel\u001b[49m\u001b[43m(\u001b[49m\n\u001b[0;32m     33\u001b[0m \u001b[43m        \u001b[49m\u001b[43minput_ids\u001b[49m\u001b[38;5;241;43m=\u001b[39;49m\u001b[43mexpanded_input_ids\u001b[49m\u001b[43m,\u001b[49m\u001b[43m \u001b[49m\n\u001b[0;32m     34\u001b[0m \u001b[43m        \u001b[49m\u001b[43mattention_mask\u001b[49m\u001b[38;5;241;43m=\u001b[39;49m\u001b[43mexpanded_mask\u001b[49m\u001b[43m,\u001b[49m\u001b[43m \u001b[49m\n\u001b[0;32m     35\u001b[0m \u001b[43m        \u001b[49m\u001b[43mdecoder_input_ids\u001b[49m\u001b[38;5;241;43m=\u001b[39;49m\u001b[43mexpanded_decoder_input_ids\u001b[49m\n\u001b[0;32m     36\u001b[0m \u001b[43m    \u001b[49m\u001b[43m)\u001b[49m\n\u001b[0;32m     38\u001b[0m     logits \u001b[38;5;241m=\u001b[39m outputs\u001b[38;5;241m.\u001b[39mlogits[:, \u001b[38;5;241m-\u001b[39m\u001b[38;5;241m1\u001b[39m, :]  \n\u001b[0;32m     39\u001b[0m     log_probs \u001b[38;5;241m=\u001b[39m torch\u001b[38;5;241m.\u001b[39mnn\u001b[38;5;241m.\u001b[39mfunctional\u001b[38;5;241m.\u001b[39mlog_softmax(logits, dim\u001b[38;5;241m=\u001b[39m\u001b[38;5;241m-\u001b[39m\u001b[38;5;241m1\u001b[39m)  \n",
            "File \u001b[1;32mc:\\Users\\jackchang\\AppData\\Local\\Programs\\Python\\Python311\\Lib\\site-packages\\torch\\nn\\modules\\module.py:1501\u001b[0m, in \u001b[0;36mModule._call_impl\u001b[1;34m(self, *args, **kwargs)\u001b[0m\n\u001b[0;32m   1496\u001b[0m \u001b[38;5;66;03m# If we don't have any hooks, we want to skip the rest of the logic in\u001b[39;00m\n\u001b[0;32m   1497\u001b[0m \u001b[38;5;66;03m# this function, and just call forward.\u001b[39;00m\n\u001b[0;32m   1498\u001b[0m \u001b[38;5;28;01mif\u001b[39;00m \u001b[38;5;129;01mnot\u001b[39;00m (\u001b[38;5;28mself\u001b[39m\u001b[38;5;241m.\u001b[39m_backward_hooks \u001b[38;5;129;01mor\u001b[39;00m \u001b[38;5;28mself\u001b[39m\u001b[38;5;241m.\u001b[39m_backward_pre_hooks \u001b[38;5;129;01mor\u001b[39;00m \u001b[38;5;28mself\u001b[39m\u001b[38;5;241m.\u001b[39m_forward_hooks \u001b[38;5;129;01mor\u001b[39;00m \u001b[38;5;28mself\u001b[39m\u001b[38;5;241m.\u001b[39m_forward_pre_hooks\n\u001b[0;32m   1499\u001b[0m         \u001b[38;5;129;01mor\u001b[39;00m _global_backward_pre_hooks \u001b[38;5;129;01mor\u001b[39;00m _global_backward_hooks\n\u001b[0;32m   1500\u001b[0m         \u001b[38;5;129;01mor\u001b[39;00m _global_forward_hooks \u001b[38;5;129;01mor\u001b[39;00m _global_forward_pre_hooks):\n\u001b[1;32m-> 1501\u001b[0m     \u001b[38;5;28;01mreturn\u001b[39;00m \u001b[43mforward_call\u001b[49m\u001b[43m(\u001b[49m\u001b[38;5;241;43m*\u001b[39;49m\u001b[43margs\u001b[49m\u001b[43m,\u001b[49m\u001b[43m \u001b[49m\u001b[38;5;241;43m*\u001b[39;49m\u001b[38;5;241;43m*\u001b[39;49m\u001b[43mkwargs\u001b[49m\u001b[43m)\u001b[49m\n\u001b[0;32m   1502\u001b[0m \u001b[38;5;66;03m# Do not call functions when jit is used\u001b[39;00m\n\u001b[0;32m   1503\u001b[0m full_backward_hooks, non_full_backward_hooks \u001b[38;5;241m=\u001b[39m [], []\n",
            "File \u001b[1;32mc:\\Users\\jackchang\\AppData\\Local\\Programs\\Python\\Python311\\Lib\\site-packages\\transformers\\models\\bart\\modeling_bart.py:1642\u001b[0m, in \u001b[0;36mBartForConditionalGeneration.forward\u001b[1;34m(self, input_ids, attention_mask, decoder_input_ids, decoder_attention_mask, head_mask, decoder_head_mask, cross_attn_head_mask, encoder_outputs, past_key_values, inputs_embeds, decoder_inputs_embeds, labels, use_cache, output_attentions, output_hidden_states, return_dict)\u001b[0m\n\u001b[0;32m   1637\u001b[0m     \u001b[38;5;28;01mif\u001b[39;00m decoder_input_ids \u001b[38;5;129;01mis\u001b[39;00m \u001b[38;5;28;01mNone\u001b[39;00m \u001b[38;5;129;01mand\u001b[39;00m decoder_inputs_embeds \u001b[38;5;129;01mis\u001b[39;00m \u001b[38;5;28;01mNone\u001b[39;00m:\n\u001b[0;32m   1638\u001b[0m         decoder_input_ids \u001b[38;5;241m=\u001b[39m shift_tokens_right(\n\u001b[0;32m   1639\u001b[0m             labels, \u001b[38;5;28mself\u001b[39m\u001b[38;5;241m.\u001b[39mconfig\u001b[38;5;241m.\u001b[39mpad_token_id, \u001b[38;5;28mself\u001b[39m\u001b[38;5;241m.\u001b[39mconfig\u001b[38;5;241m.\u001b[39mdecoder_start_token_id\n\u001b[0;32m   1640\u001b[0m         )\n\u001b[1;32m-> 1642\u001b[0m outputs \u001b[38;5;241m=\u001b[39m \u001b[38;5;28;43mself\u001b[39;49m\u001b[38;5;241;43m.\u001b[39;49m\u001b[43mmodel\u001b[49m\u001b[43m(\u001b[49m\n\u001b[0;32m   1643\u001b[0m \u001b[43m    \u001b[49m\u001b[43minput_ids\u001b[49m\u001b[43m,\u001b[49m\n\u001b[0;32m   1644\u001b[0m \u001b[43m    \u001b[49m\u001b[43mattention_mask\u001b[49m\u001b[38;5;241;43m=\u001b[39;49m\u001b[43mattention_mask\u001b[49m\u001b[43m,\u001b[49m\n\u001b[0;32m   1645\u001b[0m \u001b[43m    \u001b[49m\u001b[43mdecoder_input_ids\u001b[49m\u001b[38;5;241;43m=\u001b[39;49m\u001b[43mdecoder_input_ids\u001b[49m\u001b[43m,\u001b[49m\n\u001b[0;32m   1646\u001b[0m \u001b[43m    \u001b[49m\u001b[43mencoder_outputs\u001b[49m\u001b[38;5;241;43m=\u001b[39;49m\u001b[43mencoder_outputs\u001b[49m\u001b[43m,\u001b[49m\n\u001b[0;32m   1647\u001b[0m \u001b[43m    \u001b[49m\u001b[43mdecoder_attention_mask\u001b[49m\u001b[38;5;241;43m=\u001b[39;49m\u001b[43mdecoder_attention_mask\u001b[49m\u001b[43m,\u001b[49m\n\u001b[0;32m   1648\u001b[0m \u001b[43m    \u001b[49m\u001b[43mhead_mask\u001b[49m\u001b[38;5;241;43m=\u001b[39;49m\u001b[43mhead_mask\u001b[49m\u001b[43m,\u001b[49m\n\u001b[0;32m   1649\u001b[0m \u001b[43m    \u001b[49m\u001b[43mdecoder_head_mask\u001b[49m\u001b[38;5;241;43m=\u001b[39;49m\u001b[43mdecoder_head_mask\u001b[49m\u001b[43m,\u001b[49m\n\u001b[0;32m   1650\u001b[0m \u001b[43m    \u001b[49m\u001b[43mcross_attn_head_mask\u001b[49m\u001b[38;5;241;43m=\u001b[39;49m\u001b[43mcross_attn_head_mask\u001b[49m\u001b[43m,\u001b[49m\n\u001b[0;32m   1651\u001b[0m \u001b[43m    \u001b[49m\u001b[43mpast_key_values\u001b[49m\u001b[38;5;241;43m=\u001b[39;49m\u001b[43mpast_key_values\u001b[49m\u001b[43m,\u001b[49m\n\u001b[0;32m   1652\u001b[0m \u001b[43m    \u001b[49m\u001b[43minputs_embeds\u001b[49m\u001b[38;5;241;43m=\u001b[39;49m\u001b[43minputs_embeds\u001b[49m\u001b[43m,\u001b[49m\n\u001b[0;32m   1653\u001b[0m \u001b[43m    \u001b[49m\u001b[43mdecoder_inputs_embeds\u001b[49m\u001b[38;5;241;43m=\u001b[39;49m\u001b[43mdecoder_inputs_embeds\u001b[49m\u001b[43m,\u001b[49m\n\u001b[0;32m   1654\u001b[0m \u001b[43m    \u001b[49m\u001b[43muse_cache\u001b[49m\u001b[38;5;241;43m=\u001b[39;49m\u001b[43muse_cache\u001b[49m\u001b[43m,\u001b[49m\n\u001b[0;32m   1655\u001b[0m \u001b[43m    \u001b[49m\u001b[43moutput_attentions\u001b[49m\u001b[38;5;241;43m=\u001b[39;49m\u001b[43moutput_attentions\u001b[49m\u001b[43m,\u001b[49m\n\u001b[0;32m   1656\u001b[0m \u001b[43m    \u001b[49m\u001b[43moutput_hidden_states\u001b[49m\u001b[38;5;241;43m=\u001b[39;49m\u001b[43moutput_hidden_states\u001b[49m\u001b[43m,\u001b[49m\n\u001b[0;32m   1657\u001b[0m \u001b[43m    \u001b[49m\u001b[43mreturn_dict\u001b[49m\u001b[38;5;241;43m=\u001b[39;49m\u001b[43mreturn_dict\u001b[49m\u001b[43m,\u001b[49m\n\u001b[0;32m   1658\u001b[0m \u001b[43m\u001b[49m\u001b[43m)\u001b[49m\n\u001b[0;32m   1660\u001b[0m lm_logits \u001b[38;5;241m=\u001b[39m \u001b[38;5;28mself\u001b[39m\u001b[38;5;241m.\u001b[39mlm_head(outputs[\u001b[38;5;241m0\u001b[39m])\n\u001b[0;32m   1661\u001b[0m lm_logits \u001b[38;5;241m=\u001b[39m lm_logits \u001b[38;5;241m+\u001b[39m \u001b[38;5;28mself\u001b[39m\u001b[38;5;241m.\u001b[39mfinal_logits_bias\u001b[38;5;241m.\u001b[39mto(lm_logits\u001b[38;5;241m.\u001b[39mdevice)\n",
            "File \u001b[1;32mc:\\Users\\jackchang\\AppData\\Local\\Programs\\Python\\Python311\\Lib\\site-packages\\torch\\nn\\modules\\module.py:1501\u001b[0m, in \u001b[0;36mModule._call_impl\u001b[1;34m(self, *args, **kwargs)\u001b[0m\n\u001b[0;32m   1496\u001b[0m \u001b[38;5;66;03m# If we don't have any hooks, we want to skip the rest of the logic in\u001b[39;00m\n\u001b[0;32m   1497\u001b[0m \u001b[38;5;66;03m# this function, and just call forward.\u001b[39;00m\n\u001b[0;32m   1498\u001b[0m \u001b[38;5;28;01mif\u001b[39;00m \u001b[38;5;129;01mnot\u001b[39;00m (\u001b[38;5;28mself\u001b[39m\u001b[38;5;241m.\u001b[39m_backward_hooks \u001b[38;5;129;01mor\u001b[39;00m \u001b[38;5;28mself\u001b[39m\u001b[38;5;241m.\u001b[39m_backward_pre_hooks \u001b[38;5;129;01mor\u001b[39;00m \u001b[38;5;28mself\u001b[39m\u001b[38;5;241m.\u001b[39m_forward_hooks \u001b[38;5;129;01mor\u001b[39;00m \u001b[38;5;28mself\u001b[39m\u001b[38;5;241m.\u001b[39m_forward_pre_hooks\n\u001b[0;32m   1499\u001b[0m         \u001b[38;5;129;01mor\u001b[39;00m _global_backward_pre_hooks \u001b[38;5;129;01mor\u001b[39;00m _global_backward_hooks\n\u001b[0;32m   1500\u001b[0m         \u001b[38;5;129;01mor\u001b[39;00m _global_forward_hooks \u001b[38;5;129;01mor\u001b[39;00m _global_forward_pre_hooks):\n\u001b[1;32m-> 1501\u001b[0m     \u001b[38;5;28;01mreturn\u001b[39;00m \u001b[43mforward_call\u001b[49m\u001b[43m(\u001b[49m\u001b[38;5;241;43m*\u001b[39;49m\u001b[43margs\u001b[49m\u001b[43m,\u001b[49m\u001b[43m \u001b[49m\u001b[38;5;241;43m*\u001b[39;49m\u001b[38;5;241;43m*\u001b[39;49m\u001b[43mkwargs\u001b[49m\u001b[43m)\u001b[49m\n\u001b[0;32m   1502\u001b[0m \u001b[38;5;66;03m# Do not call functions when jit is used\u001b[39;00m\n\u001b[0;32m   1503\u001b[0m full_backward_hooks, non_full_backward_hooks \u001b[38;5;241m=\u001b[39m [], []\n",
            "File \u001b[1;32mc:\\Users\\jackchang\\AppData\\Local\\Programs\\Python\\Python311\\Lib\\site-packages\\transformers\\models\\bart\\modeling_bart.py:1528\u001b[0m, in \u001b[0;36mBartModel.forward\u001b[1;34m(self, input_ids, attention_mask, decoder_input_ids, decoder_attention_mask, head_mask, decoder_head_mask, cross_attn_head_mask, encoder_outputs, past_key_values, inputs_embeds, decoder_inputs_embeds, use_cache, output_attentions, output_hidden_states, return_dict)\u001b[0m\n\u001b[0;32m   1521\u001b[0m     encoder_outputs \u001b[38;5;241m=\u001b[39m BaseModelOutput(\n\u001b[0;32m   1522\u001b[0m         last_hidden_state\u001b[38;5;241m=\u001b[39mencoder_outputs[\u001b[38;5;241m0\u001b[39m],\n\u001b[0;32m   1523\u001b[0m         hidden_states\u001b[38;5;241m=\u001b[39mencoder_outputs[\u001b[38;5;241m1\u001b[39m] \u001b[38;5;28;01mif\u001b[39;00m \u001b[38;5;28mlen\u001b[39m(encoder_outputs) \u001b[38;5;241m>\u001b[39m \u001b[38;5;241m1\u001b[39m \u001b[38;5;28;01melse\u001b[39;00m \u001b[38;5;28;01mNone\u001b[39;00m,\n\u001b[0;32m   1524\u001b[0m         attentions\u001b[38;5;241m=\u001b[39mencoder_outputs[\u001b[38;5;241m2\u001b[39m] \u001b[38;5;28;01mif\u001b[39;00m \u001b[38;5;28mlen\u001b[39m(encoder_outputs) \u001b[38;5;241m>\u001b[39m \u001b[38;5;241m2\u001b[39m \u001b[38;5;28;01melse\u001b[39;00m \u001b[38;5;28;01mNone\u001b[39;00m,\n\u001b[0;32m   1525\u001b[0m     )\n\u001b[0;32m   1527\u001b[0m \u001b[38;5;66;03m# decoder outputs consists of (dec_features, past_key_value, dec_hidden, dec_attn)\u001b[39;00m\n\u001b[1;32m-> 1528\u001b[0m decoder_outputs \u001b[38;5;241m=\u001b[39m \u001b[38;5;28;43mself\u001b[39;49m\u001b[38;5;241;43m.\u001b[39;49m\u001b[43mdecoder\u001b[49m\u001b[43m(\u001b[49m\n\u001b[0;32m   1529\u001b[0m \u001b[43m    \u001b[49m\u001b[43minput_ids\u001b[49m\u001b[38;5;241;43m=\u001b[39;49m\u001b[43mdecoder_input_ids\u001b[49m\u001b[43m,\u001b[49m\n\u001b[0;32m   1530\u001b[0m \u001b[43m    \u001b[49m\u001b[43mattention_mask\u001b[49m\u001b[38;5;241;43m=\u001b[39;49m\u001b[43mdecoder_attention_mask\u001b[49m\u001b[43m,\u001b[49m\n\u001b[0;32m   1531\u001b[0m \u001b[43m    \u001b[49m\u001b[43mencoder_hidden_states\u001b[49m\u001b[38;5;241;43m=\u001b[39;49m\u001b[43mencoder_outputs\u001b[49m\u001b[43m[\u001b[49m\u001b[38;5;241;43m0\u001b[39;49m\u001b[43m]\u001b[49m\u001b[43m,\u001b[49m\n\u001b[0;32m   1532\u001b[0m \u001b[43m    \u001b[49m\u001b[43mencoder_attention_mask\u001b[49m\u001b[38;5;241;43m=\u001b[39;49m\u001b[43mattention_mask\u001b[49m\u001b[43m,\u001b[49m\n\u001b[0;32m   1533\u001b[0m \u001b[43m    \u001b[49m\u001b[43mhead_mask\u001b[49m\u001b[38;5;241;43m=\u001b[39;49m\u001b[43mdecoder_head_mask\u001b[49m\u001b[43m,\u001b[49m\n\u001b[0;32m   1534\u001b[0m \u001b[43m    \u001b[49m\u001b[43mcross_attn_head_mask\u001b[49m\u001b[38;5;241;43m=\u001b[39;49m\u001b[43mcross_attn_head_mask\u001b[49m\u001b[43m,\u001b[49m\n\u001b[0;32m   1535\u001b[0m \u001b[43m    \u001b[49m\u001b[43mpast_key_values\u001b[49m\u001b[38;5;241;43m=\u001b[39;49m\u001b[43mpast_key_values\u001b[49m\u001b[43m,\u001b[49m\n\u001b[0;32m   1536\u001b[0m \u001b[43m    \u001b[49m\u001b[43minputs_embeds\u001b[49m\u001b[38;5;241;43m=\u001b[39;49m\u001b[43mdecoder_inputs_embeds\u001b[49m\u001b[43m,\u001b[49m\n\u001b[0;32m   1537\u001b[0m \u001b[43m    \u001b[49m\u001b[43muse_cache\u001b[49m\u001b[38;5;241;43m=\u001b[39;49m\u001b[43muse_cache\u001b[49m\u001b[43m,\u001b[49m\n\u001b[0;32m   1538\u001b[0m \u001b[43m    \u001b[49m\u001b[43moutput_attentions\u001b[49m\u001b[38;5;241;43m=\u001b[39;49m\u001b[43moutput_attentions\u001b[49m\u001b[43m,\u001b[49m\n\u001b[0;32m   1539\u001b[0m \u001b[43m    \u001b[49m\u001b[43moutput_hidden_states\u001b[49m\u001b[38;5;241;43m=\u001b[39;49m\u001b[43moutput_hidden_states\u001b[49m\u001b[43m,\u001b[49m\n\u001b[0;32m   1540\u001b[0m \u001b[43m    \u001b[49m\u001b[43mreturn_dict\u001b[49m\u001b[38;5;241;43m=\u001b[39;49m\u001b[43mreturn_dict\u001b[49m\u001b[43m,\u001b[49m\n\u001b[0;32m   1541\u001b[0m \u001b[43m\u001b[49m\u001b[43m)\u001b[49m\n\u001b[0;32m   1543\u001b[0m \u001b[38;5;28;01mif\u001b[39;00m \u001b[38;5;129;01mnot\u001b[39;00m return_dict:\n\u001b[0;32m   1544\u001b[0m     \u001b[38;5;28;01mreturn\u001b[39;00m decoder_outputs \u001b[38;5;241m+\u001b[39m encoder_outputs\n",
            "File \u001b[1;32mc:\\Users\\jackchang\\AppData\\Local\\Programs\\Python\\Python311\\Lib\\site-packages\\torch\\nn\\modules\\module.py:1501\u001b[0m, in \u001b[0;36mModule._call_impl\u001b[1;34m(self, *args, **kwargs)\u001b[0m\n\u001b[0;32m   1496\u001b[0m \u001b[38;5;66;03m# If we don't have any hooks, we want to skip the rest of the logic in\u001b[39;00m\n\u001b[0;32m   1497\u001b[0m \u001b[38;5;66;03m# this function, and just call forward.\u001b[39;00m\n\u001b[0;32m   1498\u001b[0m \u001b[38;5;28;01mif\u001b[39;00m \u001b[38;5;129;01mnot\u001b[39;00m (\u001b[38;5;28mself\u001b[39m\u001b[38;5;241m.\u001b[39m_backward_hooks \u001b[38;5;129;01mor\u001b[39;00m \u001b[38;5;28mself\u001b[39m\u001b[38;5;241m.\u001b[39m_backward_pre_hooks \u001b[38;5;129;01mor\u001b[39;00m \u001b[38;5;28mself\u001b[39m\u001b[38;5;241m.\u001b[39m_forward_hooks \u001b[38;5;129;01mor\u001b[39;00m \u001b[38;5;28mself\u001b[39m\u001b[38;5;241m.\u001b[39m_forward_pre_hooks\n\u001b[0;32m   1499\u001b[0m         \u001b[38;5;129;01mor\u001b[39;00m _global_backward_pre_hooks \u001b[38;5;129;01mor\u001b[39;00m _global_backward_hooks\n\u001b[0;32m   1500\u001b[0m         \u001b[38;5;129;01mor\u001b[39;00m _global_forward_hooks \u001b[38;5;129;01mor\u001b[39;00m _global_forward_pre_hooks):\n\u001b[1;32m-> 1501\u001b[0m     \u001b[38;5;28;01mreturn\u001b[39;00m \u001b[43mforward_call\u001b[49m\u001b[43m(\u001b[49m\u001b[38;5;241;43m*\u001b[39;49m\u001b[43margs\u001b[49m\u001b[43m,\u001b[49m\u001b[43m \u001b[49m\u001b[38;5;241;43m*\u001b[39;49m\u001b[38;5;241;43m*\u001b[39;49m\u001b[43mkwargs\u001b[49m\u001b[43m)\u001b[49m\n\u001b[0;32m   1502\u001b[0m \u001b[38;5;66;03m# Do not call functions when jit is used\u001b[39;00m\n\u001b[0;32m   1503\u001b[0m full_backward_hooks, non_full_backward_hooks \u001b[38;5;241m=\u001b[39m [], []\n",
            "File \u001b[1;32mc:\\Users\\jackchang\\AppData\\Local\\Programs\\Python\\Python311\\Lib\\site-packages\\transformers\\models\\bart\\modeling_bart.py:1328\u001b[0m, in \u001b[0;36mBartDecoder.forward\u001b[1;34m(self, input_ids, attention_mask, encoder_hidden_states, encoder_attention_mask, head_mask, cross_attn_head_mask, past_key_values, inputs_embeds, use_cache, output_attentions, output_hidden_states, return_dict)\u001b[0m\n\u001b[0;32m   1325\u001b[0m positions \u001b[38;5;241m=\u001b[39m \u001b[38;5;28mself\u001b[39m\u001b[38;5;241m.\u001b[39membed_positions(\u001b[38;5;28minput\u001b[39m, past_key_values_length)\n\u001b[0;32m   1326\u001b[0m positions \u001b[38;5;241m=\u001b[39m positions\u001b[38;5;241m.\u001b[39mto(inputs_embeds\u001b[38;5;241m.\u001b[39mdevice)\n\u001b[1;32m-> 1328\u001b[0m hidden_states \u001b[38;5;241m=\u001b[39m \u001b[43minputs_embeds\u001b[49m\u001b[43m \u001b[49m\u001b[38;5;241;43m+\u001b[39;49m\u001b[43m \u001b[49m\u001b[43mpositions\u001b[49m\n\u001b[0;32m   1329\u001b[0m hidden_states \u001b[38;5;241m=\u001b[39m \u001b[38;5;28mself\u001b[39m\u001b[38;5;241m.\u001b[39mlayernorm_embedding(hidden_states)\n\u001b[0;32m   1331\u001b[0m hidden_states \u001b[38;5;241m=\u001b[39m nn\u001b[38;5;241m.\u001b[39mfunctional\u001b[38;5;241m.\u001b[39mdropout(hidden_states, p\u001b[38;5;241m=\u001b[39m\u001b[38;5;28mself\u001b[39m\u001b[38;5;241m.\u001b[39mdropout, training\u001b[38;5;241m=\u001b[39m\u001b[38;5;28mself\u001b[39m\u001b[38;5;241m.\u001b[39mtraining)\n",
            "\u001b[1;31mRuntimeError\u001b[0m: The size of tensor a (2) must match the size of tensor b (6) at non-singleton dimension 2"
          ]
        }
      ],
      "source": [
        "%%time\n",
        "batches = dataloader(batch_size=8)  # get batches\n",
        "\n",
        "candidates = []\n",
        "references = []\n",
        "with torch.no_grad():\n",
        "    for (i, batch) in enumerate(batches):\n",
        "        print(f\"batch {i+1}\")\n",
        "        summaries = beam_search(model, batch[\"input_ids\"], batch[\"attention_mask\"], tokenizer,\n",
        "                                max_length=62, beam_size=6, length_penalty=1.0)\n",
        "        candidates.extend(summaries)\n",
        "        references.extend(batch[\"summaries\"])\n",
        "\n",
        "evaluate_rouge(candidates, references)\n"
      ]
    },
    {
      "cell_type": "markdown",
      "metadata": {
        "id": "u0a5PXrpboYY"
      },
      "source": [
        "Finally, we are going to analyze the behavior of Beam Search w.r.t. the beam size and the length peanlty factor.\n",
        "Now we are going to use the model's builtin `generate` function for better consistency.\n",
        "Below is a wrapper for this function."
      ]
    },
    {
      "cell_type": "code",
      "execution_count": 10,
      "metadata": {
        "id": "ptiU-VRccWNP"
      },
      "outputs": [],
      "source": [
        "def beam_search_ref(model, input_ids, attention_mask, tokenizer, max_length=62, beam_size=4, length_penalty=1.0):\n",
        "    \"\"\"Beam search decoding\n",
        "    Args:\n",
        "        model: the model to use\n",
        "        input_ids: the input ids, shape [batch_size, seq_len]\n",
        "        attention_mask: the attention mask, shape [batch_size, seq_len]\n",
        "        max_length: the maximum length of the generated summary, including the <bos> and <eos> tokens\n",
        "        beam_size: the beam size\n",
        "        length_penalty: the length penalty\n",
        "    Returns:\n",
        "        the generated summary\n",
        "    \"\"\"\n",
        "    return model.generate(input_ids, num_beams=beam_size, max_length=max_length, length_penalty=length_penalty)"
      ]
    },
    {
      "cell_type": "markdown",
      "metadata": {
        "id": "m_nOimVvc4nk"
      },
      "source": [
        "Now please do a hyper-parameter search for the beam size with range [1, 10], and the length penalty with range [0.5, 2.0].\n",
        "Plot the ROUGE1 F1 score w.r.t. both different beam sizes and length penalties in a 3d plot (e.g., https://matplotlib.org/stable/gallery/mplot3d/scatter3d.html), and provide a hyper-parameter configuration such that the ROUGE1 F1 score is at least 43.8."
      ]
    },
    {
      "cell_type": "code",
      "execution_count": 13,
      "metadata": {
        "id": "ZiNHlUVMhrfs"
      },
      "outputs": [
        {
          "name": "stdout",
          "output_type": "stream",
          "text": [
            "Testing beam_size=1, length_penalty=0.50...\n"
          ]
        },
        {
          "name": "stderr",
          "output_type": "stream",
          "text": [
            "c:\\Users\\jackchang\\AppData\\Local\\Programs\\Python\\Python311\\Lib\\site-packages\\transformers\\generation\\configuration_utils.py:649: UserWarning: `num_beams` is set to 1. However, `early_stopping` is set to `True` -- this flag is only used in beam-based generation modes. You should set `num_beams>1` or unset `early_stopping`.\n",
            "  warnings.warn(\n",
            "c:\\Users\\jackchang\\AppData\\Local\\Programs\\Python\\Python311\\Lib\\site-packages\\transformers\\generation\\configuration_utils.py:668: UserWarning: `num_beams` is set to 1. However, `length_penalty` is set to `0.5` -- this flag is only used in beam-based generation modes. You should set `num_beams>1` or unset `length_penalty`.\n",
            "  warnings.warn(\n"
          ]
        },
        {
          "name": "stdout",
          "output_type": "stream",
          "text": [
            "Testing beam_size=1, length_penalty=0.67...\n"
          ]
        },
        {
          "name": "stderr",
          "output_type": "stream",
          "text": [
            "c:\\Users\\jackchang\\AppData\\Local\\Programs\\Python\\Python311\\Lib\\site-packages\\transformers\\generation\\configuration_utils.py:668: UserWarning: `num_beams` is set to 1. However, `length_penalty` is set to `0.6666666666666666` -- this flag is only used in beam-based generation modes. You should set `num_beams>1` or unset `length_penalty`.\n",
            "  warnings.warn(\n"
          ]
        },
        {
          "name": "stdout",
          "output_type": "stream",
          "text": [
            "Testing beam_size=1, length_penalty=0.83...\n"
          ]
        },
        {
          "name": "stderr",
          "output_type": "stream",
          "text": [
            "c:\\Users\\jackchang\\AppData\\Local\\Programs\\Python\\Python311\\Lib\\site-packages\\transformers\\generation\\configuration_utils.py:668: UserWarning: `num_beams` is set to 1. However, `length_penalty` is set to `0.8333333333333333` -- this flag is only used in beam-based generation modes. You should set `num_beams>1` or unset `length_penalty`.\n",
            "  warnings.warn(\n"
          ]
        },
        {
          "name": "stdout",
          "output_type": "stream",
          "text": [
            "Testing beam_size=1, length_penalty=1.00...\n",
            "Testing beam_size=1, length_penalty=1.17...\n"
          ]
        },
        {
          "name": "stderr",
          "output_type": "stream",
          "text": [
            "c:\\Users\\jackchang\\AppData\\Local\\Programs\\Python\\Python311\\Lib\\site-packages\\transformers\\generation\\configuration_utils.py:668: UserWarning: `num_beams` is set to 1. However, `length_penalty` is set to `1.1666666666666665` -- this flag is only used in beam-based generation modes. You should set `num_beams>1` or unset `length_penalty`.\n",
            "  warnings.warn(\n"
          ]
        },
        {
          "name": "stdout",
          "output_type": "stream",
          "text": [
            "Testing beam_size=1, length_penalty=1.33...\n"
          ]
        },
        {
          "name": "stderr",
          "output_type": "stream",
          "text": [
            "c:\\Users\\jackchang\\AppData\\Local\\Programs\\Python\\Python311\\Lib\\site-packages\\transformers\\generation\\configuration_utils.py:668: UserWarning: `num_beams` is set to 1. However, `length_penalty` is set to `1.3333333333333333` -- this flag is only used in beam-based generation modes. You should set `num_beams>1` or unset `length_penalty`.\n",
            "  warnings.warn(\n"
          ]
        },
        {
          "name": "stdout",
          "output_type": "stream",
          "text": [
            "Testing beam_size=1, length_penalty=1.50...\n"
          ]
        },
        {
          "name": "stderr",
          "output_type": "stream",
          "text": [
            "c:\\Users\\jackchang\\AppData\\Local\\Programs\\Python\\Python311\\Lib\\site-packages\\transformers\\generation\\configuration_utils.py:668: UserWarning: `num_beams` is set to 1. However, `length_penalty` is set to `1.5` -- this flag is only used in beam-based generation modes. You should set `num_beams>1` or unset `length_penalty`.\n",
            "  warnings.warn(\n"
          ]
        },
        {
          "name": "stdout",
          "output_type": "stream",
          "text": [
            "Testing beam_size=1, length_penalty=1.67...\n"
          ]
        },
        {
          "name": "stderr",
          "output_type": "stream",
          "text": [
            "c:\\Users\\jackchang\\AppData\\Local\\Programs\\Python\\Python311\\Lib\\site-packages\\transformers\\generation\\configuration_utils.py:668: UserWarning: `num_beams` is set to 1. However, `length_penalty` is set to `1.6666666666666665` -- this flag is only used in beam-based generation modes. You should set `num_beams>1` or unset `length_penalty`.\n",
            "  warnings.warn(\n"
          ]
        },
        {
          "name": "stdout",
          "output_type": "stream",
          "text": [
            "Testing beam_size=1, length_penalty=1.83...\n"
          ]
        },
        {
          "name": "stderr",
          "output_type": "stream",
          "text": [
            "c:\\Users\\jackchang\\AppData\\Local\\Programs\\Python\\Python311\\Lib\\site-packages\\transformers\\generation\\configuration_utils.py:668: UserWarning: `num_beams` is set to 1. However, `length_penalty` is set to `1.8333333333333333` -- this flag is only used in beam-based generation modes. You should set `num_beams>1` or unset `length_penalty`.\n",
            "  warnings.warn(\n"
          ]
        },
        {
          "name": "stdout",
          "output_type": "stream",
          "text": [
            "Testing beam_size=1, length_penalty=2.00...\n"
          ]
        },
        {
          "name": "stderr",
          "output_type": "stream",
          "text": [
            "c:\\Users\\jackchang\\AppData\\Local\\Programs\\Python\\Python311\\Lib\\site-packages\\transformers\\generation\\configuration_utils.py:668: UserWarning: `num_beams` is set to 1. However, `length_penalty` is set to `2.0` -- this flag is only used in beam-based generation modes. You should set `num_beams>1` or unset `length_penalty`.\n",
            "  warnings.warn(\n"
          ]
        },
        {
          "name": "stdout",
          "output_type": "stream",
          "text": [
            "Testing beam_size=2, length_penalty=0.50...\n",
            "Testing beam_size=2, length_penalty=0.67...\n",
            "Testing beam_size=2, length_penalty=0.83...\n",
            "Testing beam_size=2, length_penalty=1.00...\n",
            "Testing beam_size=2, length_penalty=1.17...\n",
            "Testing beam_size=2, length_penalty=1.33...\n",
            "Testing beam_size=2, length_penalty=1.50...\n",
            "Testing beam_size=2, length_penalty=1.67...\n",
            "Testing beam_size=2, length_penalty=1.83...\n",
            "Testing beam_size=2, length_penalty=2.00...\n",
            "Testing beam_size=3, length_penalty=0.50...\n",
            "Testing beam_size=3, length_penalty=0.67...\n",
            "Testing beam_size=3, length_penalty=0.83...\n",
            "Testing beam_size=3, length_penalty=1.00...\n",
            "Testing beam_size=3, length_penalty=1.17...\n",
            "Testing beam_size=3, length_penalty=1.33...\n",
            "Testing beam_size=3, length_penalty=1.50...\n",
            "Testing beam_size=3, length_penalty=1.67...\n",
            "Testing beam_size=3, length_penalty=1.83...\n",
            "Testing beam_size=3, length_penalty=2.00...\n",
            "Testing beam_size=4, length_penalty=0.50...\n",
            "Testing beam_size=4, length_penalty=0.67...\n",
            "Testing beam_size=4, length_penalty=0.83...\n",
            "Testing beam_size=4, length_penalty=1.00...\n",
            "Testing beam_size=4, length_penalty=1.17...\n",
            "Testing beam_size=4, length_penalty=1.33...\n",
            "Testing beam_size=4, length_penalty=1.50...\n",
            "Testing beam_size=4, length_penalty=1.67...\n",
            "Testing beam_size=4, length_penalty=1.83...\n",
            "Testing beam_size=4, length_penalty=2.00...\n",
            "Testing beam_size=5, length_penalty=0.50...\n",
            "Testing beam_size=5, length_penalty=0.67...\n",
            "Testing beam_size=5, length_penalty=0.83...\n",
            "Testing beam_size=5, length_penalty=1.00...\n",
            "Testing beam_size=5, length_penalty=1.17...\n",
            "Testing beam_size=5, length_penalty=1.33...\n",
            "Testing beam_size=5, length_penalty=1.50...\n",
            "Testing beam_size=5, length_penalty=1.67...\n",
            "Testing beam_size=5, length_penalty=1.83...\n",
            "Testing beam_size=5, length_penalty=2.00...\n",
            "Testing beam_size=6, length_penalty=0.50...\n",
            "Testing beam_size=6, length_penalty=0.67...\n",
            "Testing beam_size=6, length_penalty=0.83...\n",
            "Testing beam_size=6, length_penalty=1.00...\n",
            "Testing beam_size=6, length_penalty=1.17...\n",
            "Testing beam_size=6, length_penalty=1.33...\n",
            "Testing beam_size=6, length_penalty=1.50...\n",
            "Testing beam_size=6, length_penalty=1.67...\n",
            "Testing beam_size=6, length_penalty=1.83...\n",
            "Testing beam_size=6, length_penalty=2.00...\n",
            "Testing beam_size=7, length_penalty=0.50...\n",
            "Testing beam_size=7, length_penalty=0.67...\n",
            "Testing beam_size=7, length_penalty=0.83...\n",
            "Testing beam_size=7, length_penalty=1.00...\n",
            "Testing beam_size=7, length_penalty=1.17...\n",
            "Testing beam_size=7, length_penalty=1.33...\n",
            "Testing beam_size=7, length_penalty=1.50...\n",
            "Testing beam_size=7, length_penalty=1.67...\n",
            "Testing beam_size=7, length_penalty=1.83...\n",
            "Testing beam_size=7, length_penalty=2.00...\n",
            "Testing beam_size=8, length_penalty=0.50...\n",
            "Testing beam_size=8, length_penalty=0.67...\n",
            "Testing beam_size=8, length_penalty=0.83...\n",
            "Testing beam_size=8, length_penalty=1.00...\n",
            "Testing beam_size=8, length_penalty=1.17...\n",
            "Testing beam_size=8, length_penalty=1.33...\n",
            "Testing beam_size=8, length_penalty=1.50...\n",
            "Testing beam_size=8, length_penalty=1.67...\n",
            "Testing beam_size=8, length_penalty=1.83...\n",
            "Testing beam_size=8, length_penalty=2.00...\n",
            "Testing beam_size=9, length_penalty=0.50...\n",
            "Testing beam_size=9, length_penalty=0.67...\n",
            "Testing beam_size=9, length_penalty=0.83...\n",
            "Testing beam_size=9, length_penalty=1.00...\n",
            "Testing beam_size=9, length_penalty=1.17...\n",
            "Testing beam_size=9, length_penalty=1.33...\n",
            "Testing beam_size=9, length_penalty=1.50...\n",
            "Testing beam_size=9, length_penalty=1.67...\n",
            "Testing beam_size=9, length_penalty=1.83...\n",
            "Testing beam_size=9, length_penalty=2.00...\n",
            "Testing beam_size=10, length_penalty=0.50...\n",
            "Testing beam_size=10, length_penalty=0.67...\n",
            "Testing beam_size=10, length_penalty=0.83...\n",
            "Testing beam_size=10, length_penalty=1.00...\n",
            "Testing beam_size=10, length_penalty=1.17...\n",
            "Testing beam_size=10, length_penalty=1.33...\n",
            "Testing beam_size=10, length_penalty=1.50...\n",
            "Testing beam_size=10, length_penalty=1.67...\n",
            "Testing beam_size=10, length_penalty=1.83...\n",
            "Testing beam_size=10, length_penalty=2.00...\n"
          ]
        },
        {
          "data": {
            "image/png": "[encoded data removed]",
            "text/plain": [
              "<Figure size 800x600 with 1 Axes>"
            ]
          },
          "metadata": {},
          "output_type": "display_data"
        },
        {
          "name": "stdout",
          "output_type": "stream",
          "text": [
            "Best Hyperparameters: {'beam_size': 4, 'length_penalty': 1.3333333333333333, 'rouge1_f1': 0.466967594096077}\n"
          ]
        }
      ],
      "source": [
        "from itertools import product\n",
        "import numpy as np\n",
        "import matplotlib.pyplot as plt\n",
        "GOOD_HYPER_PARAMETERS = {\n",
        "    \"beam_size\": -1,\n",
        "    \"length_penalty\": 0,\n",
        "}   #  TODO:\n",
        "beam_sizes = list(range(1, 11))\n",
        "length_penalties = np.linspace(0.5, 2.0, 10)\n",
        "results = []\n",
        "best_params = {\"beam_size\": -1, \"length_penalty\": 0, \"rouge1_f1\": 0}\n",
        "\n",
        "batch = next(iter(dataloader(batch_size=8)))\n",
        "input_ids = batch[\"input_ids\"]\n",
        "attention_mask = batch[\"attention_mask\"]\n",
        "references = batch[\"summaries\"]\n",
        "\n",
        "for beam_size, length_penalty in product(beam_sizes, length_penalties):\n",
        "    print(f\"Testing beam_size={beam_size}, length_penalty={length_penalty:.2f}...\")\n",
        "    summaries = beam_search_ref(model, input_ids, attention_mask, tokenizer, \n",
        "                                    beam_size=beam_size, length_penalty=length_penalty)\n",
        "    summaries = [tokenizer.decode(summary.tolist(), skip_special_tokens=True) for summary in summaries]\n",
        "\n",
        "\n",
        "    rouge_scores = [scorer.score(ref, cand) for ref, cand in zip(references, summaries)]\n",
        "    rouge1_f1, rouge2_f1, rouge3_f1 = 0, 0, 0\n",
        "    count = len(rouge_scores)\n",
        "    for score in rouge_scores:\n",
        "        rouge1_f1 += score[\"rouge1\"].fmeasure\n",
        "        rouge2_f1 += score[\"rouge2\"].fmeasure\n",
        "        rouge3_f1 += score[\"rouge3\"].fmeasure\n",
        "    if count > 0:\n",
        "        rouge1_f1 /= count\n",
        "        rouge2_f1 /= count\n",
        "        rouge3_f1 /= count\n",
        "    results.append((beam_size, length_penalty, rouge1_f1))\n",
        "\n",
        "\n",
        "    if rouge1_f1 >= 0.438 and rouge1_f1 > best_params[\"rouge1_f1\"]:\n",
        "        best_params = {\"beam_size\": beam_size, \"length_penalty\": length_penalty, \"rouge1_f1\": rouge1_f1}\n",
        "fig = plt.figure(figsize=(8, 6))\n",
        "ax = fig.add_subplot(111, projection=\"3d\")\n",
        "\n",
        "beam_size_vals, length_penalty_vals, rouge1_f1_vals = zip(*results)\n",
        "ax.scatter(beam_size_vals, length_penalty_vals, rouge1_f1_vals, c=rouge1_f1_vals, cmap=\"viridis\", marker=\"o\")\n",
        "ax.set_xlabel(\"Beam Size\")\n",
        "ax.set_ylabel(\"Length Penalty\")\n",
        "ax.set_zlabel(\"ROUGE-1 F1 Score\")\n",
        "ax.set_title(\"Beam Size & Length Penalty vs ROUGE-1 F1 Score\")\n",
        "plt.show()\n",
        "print(\"Best Hyperparameters:\", best_params)\n"
      ]
    },
    {
      "cell_type": "markdown",
      "metadata": {
        "id": "ov_Ys2jThNdK"
      },
      "source": [
        "### Top-p Sampling\n",
        "\n",
        "In addition to the basic decoding strategies you've implemented, you'll now implement nucleus sampling (also known as top-p sampling). This decoding strategy helps balance between the deterministic nature of greedy/beam search and the potential randomness of pure sampling.\n",
        "For top-p sampling, at each step we:\n",
        "\n",
        "- Sort the vocabulary by probability  \n",
        "- Keep only the minimal set of tokens whose cumulative probability exceeds p  \n",
        "- Renormalize the probabilities of this reduced set  \n",
        "- Sample from this renormalized distribution  "
      ]
    },
    {
      "cell_type": "code",
      "execution_count": 14,
      "metadata": {
        "id": "LErDdESXhNdK"
      },
      "outputs": [],
      "source": [
        "def nucleus_sampling(model, input_ids, attention_mask, tokenizer, max_length=62, p=0.9):\n",
        "    \"\"\"Nucleus (top-p) sampling\n",
        "    Args:\n",
        "        model: the model to use\n",
        "        input_ids: the input ids, shape [batch_size, seq_len]\n",
        "        attention_mask: the attention mask, shape [batch_size, seq_len]\n",
        "        max_length: the maximum length of the generated summary\n",
        "        p: the cumulative probability threshold (typically 0.9 or 0.95)\n",
        "    Returns:\n",
        "        the generated summary\n",
        "    \"\"\"\n",
        "    # TODO: Implement\n",
        "    model = model.eval()\n",
        "    batch_size = input_ids.shape[0]\n",
        "    if attention_mask.shape[0] != batch_size:\n",
        "        attention_mask = attention_mask[:batch_size]\n",
        "    generated = torch.full((batch_size, 1), tokenizer.bos_token_id, dtype=torch.long, device=input_ids.device)\n",
        "    for i in range(max_length - 1):\n",
        "        outputs = model(input_ids=input_ids, attention_mask=attention_mask, decoder_input_ids=generated)\n",
        "        logits = outputs.logits[:, -1, :] \n",
        "        probs = F.softmax(logits, dim=-1) \n",
        "\n",
        "        sorted_probs, sorted_indices = torch.sort(probs, descending=True)  \n",
        "        cumulative_probs = torch.cumsum(sorted_probs, dim=-1)  \n",
        "        mask = cumulative_probs <= p  # Keep only the minimal set of tokens whose cumulative probability exceeds p\n",
        "        mask[..., 1:] = mask[..., :-1].clone()\n",
        "        mask[..., 0] = True  \n",
        "        filtered_probs = sorted_probs * mask  \n",
        "        filtered_probs /= filtered_probs.sum(dim=-1, keepdim=True) \n",
        "        sampled_indices = torch.multinomial(filtered_probs, 1)\n",
        "        next_token = sorted_indices.gather(-1, sampled_indices)\n",
        "        generated = torch.cat([generated, next_token], dim=-1)\n",
        "        if torch.all(next_token == tokenizer.eos_token_id):\n",
        "            break\n",
        "\n",
        "    return  [tokenizer.decode(seq.tolist(), skip_special_tokens=True) for seq in generated]\n",
        "    "
      ]
    },
    {
      "cell_type": "code",
      "execution_count": 15,
      "metadata": {
        "id": "Z9EOC3UwhNdK"
      },
      "outputs": [
        {
          "name": "stdout",
          "output_type": "stream",
          "text": [
            "batch 1\n",
            "batch 2\n",
            "batch 3\n",
            "batch 4\n",
            "batch 5\n",
            "batch 6\n",
            "batch 7\n",
            "batch 8\n",
            "batch 9\n",
            "batch 10\n",
            "batch 11\n",
            "batch 12\n",
            "batch 13\n",
            "ROUGE-1 F1: 28.266, Precision: 23.461, Recall: 37.064\n",
            "ROUGE-2 F1: 11.155, Precision: 9.209, Recall: 14.771\n",
            "ROUGE-3 F1: 5.541, Precision: 4.541, Recall: 7.440\n"
          ]
        }
      ],
      "source": [
        "# Test your implementation\n",
        "\n",
        "batches = \n",
        "](batch_size=8)  # get batches\n",
        "\n",
        "candidates = []\n",
        "references = []\n",
        "with torch.no_grad():\n",
        "    for (i, batch) in enumerate(batches):\n",
        "        print(f\"batch {i+1}\")\n",
        "        summaries = nucleus_sampling(model, batch[\"input_ids\"],\n",
        "                                   batch[\"attention_mask\"], tokenizer, p=0.9)\n",
        "        candidates.extend(summaries)\n",
        "        references.extend(batch[\"summaries\"])\n",
        "\n",
        "evaluate_rouge(candidates, references)"
      ]
    },
    {
      "cell_type": "markdown",
      "metadata": {
        "id": "e1dynBrJhNdK"
      },
      "source": [
        "### Reflection quessons\n",
        "\n",
        "1: When implementing the compute_loss function, you used teacher forcing (providing the reference summary tokens during training). What are potential limitations of this training approach? How might this create a mismatch between training and inference?\n",
        "\n",
        "TODO: Using teacher forcing might let the model learn the information by the reference, leading to the model generating nothing and inference nothing.\n",
        "\n",
        "\n",
        "2: Looking at the BART model architecture used in this assignment, how does it compare to the Transformer you implemented in Part 1? What additional components or modifications does BART introduce and why are they useful for summarization?\n",
        "\n",
        "TODO: Bart use the full encoder-decoder architecture. This helps capture richer contextual information, making it better at understanding the input document before summarization."
      ]
    },
    {
      "cell_type": "markdown",
      "metadata": {
        "id": "gEdCQ5zIhNdL"
      },
      "source": []
    },
    {
      "cell_type": "markdown",
      "metadata": {
        "id": "58-DES8EhNdL"
      },
      "source": []
    }
  ],
  "metadata": {
    "accelerator": "GPU",
    "colab": {
      "provenance": []
    },
    "gpuClass": "standard",
    "kernelspec": {
      "display_name": "Python 3",
      "name": "python3"
    },
    "language_info": {
      "codemirror_mode": {
        "name": "ipython",
        "version": 3
      },
      "file_extension": ".py",
      "mimetype": "text/x-python",
      "name": "python",
      "nbconvert_exporter": "python",
      "pygments_lexer": "ipython3",
      "version": "3.11.4"
    }
  },
  "nbformat": 4,
  "nbformat_minor": 0
}
